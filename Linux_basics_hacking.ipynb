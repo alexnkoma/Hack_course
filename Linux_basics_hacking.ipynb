{
 "cells": [
  {
   "cell_type": "markdown",
   "id": "0de7baa8-c8ec-4d3f-b85a-46d1592a715f",
   "metadata": {},
   "source": [
    "<h1>Linux basics for hackers</h1>"
   ]
  },
  {
   "cell_type": "markdown",
   "id": "72b07631-82e9-4d27-8e01-187d858a35cd",
   "metadata": {},
   "source": [
    "<h2>1. Getting started</h2>"
   ]
  },
  {
   "cell_type": "code",
   "execution_count": 1,
   "id": "3b3e2f6e-2203-444f-be9c-63f8a7bb8aa5",
   "metadata": {},
   "outputs": [
    {
     "name": "stderr",
     "output_type": "stream",
     "text": [
      "\"pwd\" no se reconoce como un comando interno o externo,\n",
      "programa o archivo por lotes ejecutable.\n"
     ]
    }
   ],
   "source": [
    "# present working directory\n",
    "!pwd"
   ]
  },
  {
   "cell_type": "code",
   "execution_count": 2,
   "id": "88c19ada-957f-4e97-a5fe-f8770d6df890",
   "metadata": {},
   "outputs": [
    {
     "name": "stdout",
     "output_type": "stream",
     "text": [
      "desktop-anfa7dr\\alexn\n"
     ]
    }
   ],
   "source": [
    "# login\n",
    "!whoami"
   ]
  },
  {
   "cell_type": "code",
   "execution_count": 3,
   "id": "2fd73a1e-0f7f-4ae8-aaef-31137b891837",
   "metadata": {},
   "outputs": [
    {
     "name": "stderr",
     "output_type": "stream",
     "text": [
      "El sistema no puede encontrar la ruta especificada.\n"
     ]
    }
   ],
   "source": [
    "# change directories\n",
    "!cd /home"
   ]
  },
  {
   "cell_type": "code",
   "execution_count": 5,
   "id": "e4de98c8-42fa-40b1-816c-42ae5b32c1f2",
   "metadata": {},
   "outputs": [
    {
     "name": "stderr",
     "output_type": "stream",
     "text": [
      "\"ls\" no se reconoce como un comando interno o externo,\n",
      "programa o archivo por lotes ejecutable.\n"
     ]
    }
   ],
   "source": [
    "# listing contents\n",
    "!ls -la"
   ]
  },
  {
   "cell_type": "code",
   "execution_count": null,
   "id": "626964a5-dd3d-449e-b7a7-74cdb3adf4ff",
   "metadata": {},
   "outputs": [],
   "source": []
  }
 ],
 "metadata": {
  "kernelspec": {
   "display_name": "Python 3 (ipykernel)",
   "language": "python",
   "name": "python3"
  },
  "language_info": {
   "codemirror_mode": {
    "name": "ipython",
    "version": 3
   },
   "file_extension": ".py",
   "mimetype": "text/x-python",
   "name": "python",
   "nbconvert_exporter": "python",
   "pygments_lexer": "ipython3",
   "version": "3.10.0"
  }
 },
 "nbformat": 4,
 "nbformat_minor": 5
}
